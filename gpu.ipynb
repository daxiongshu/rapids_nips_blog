{
 "cells": [
  {
   "cell_type": "code",
   "execution_count": 1,
   "id": "3b9fe0e5-476f-4094-95d6-0aa5514b12a0",
   "metadata": {},
   "outputs": [],
   "source": [
    "import cuml\n",
    "import cudf\n",
    "import cupy\n",
    "\n",
    "import logging\n",
    "import anndata as ad\n",
    "import numpy as np\n",
    "\n",
    "from scipy.sparse import csc_matrix\n",
    "\n",
    "from sklearn.decomposition import TruncatedSVD\n",
    "from sklearn.gaussian_process.kernels import RBF\n",
    "from sklearn.kernel_ridge import KernelRidge\n",
    "import os\n",
    "from glob import glob\n",
    "from tqdm import tqdm\n",
    "\n",
    "import gc"
   ]
  },
  {
   "cell_type": "code",
   "execution_count": 2,
   "id": "8255711e-8918-44ec-aead-2454bf7de94b",
   "metadata": {},
   "outputs": [
    {
     "data": {
      "text/plain": [
       "['openproblems_bmmc_cite_phase2_mod2',\n",
       " 'openproblems_bmmc_multiome_phase2_mod2',\n",
       " 'openproblems_bmmc_cite_phase2_rna',\n",
       " 'openproblems_bmmc_multiome_phase2_rna']"
      ]
     },
     "execution_count": 2,
     "metadata": {},
     "output_type": "execute_result"
    }
   ],
   "source": [
    "path = '/raid/data/ml/nips/datasets/predict_modality'\n",
    "os.listdir(path)"
   ]
  },
  {
   "cell_type": "code",
   "execution_count": 3,
   "id": "683e5ede-13a5-491b-bb9d-a7a9da9517f9",
   "metadata": {},
   "outputs": [],
   "source": [
    "tasks = [\"GEX2ADT\", \"ADT2GEX\", \"GEX2ATAC\", \"ATAC2GEX\"]\n",
    "task2name = {\n",
    "    \"ADT2GEX\":f\"openproblems_bmmc_cite_phase2_mod2\",\n",
    "    \"GEX2ADT\":f\"openproblems_bmmc_cite_phase2_rna\",\n",
    "    \"ATAC2GEX\":f\"openproblems_bmmc_multiome_phase2_mod2\",\n",
    "    \"GEX2ATAC\":f\"openproblems_bmmc_multiome_phase2_rna\"\n",
    "}"
   ]
  },
  {
   "cell_type": "code",
   "execution_count": 4,
   "id": "54aef355-2b0c-4838-a5ae-848663919cf5",
   "metadata": {},
   "outputs": [
    {
     "data": {
      "text/plain": [
       "'/raid/data/ml/nips/datasets/predict_modality/openproblems_bmmc_cite_phase2_rna/openproblems_bmmc_cite_phase2_rna.censor_dataset.output_train_mod1.h5ad'"
      ]
     },
     "execution_count": 4,
     "metadata": {},
     "output_type": "execute_result"
    }
   ],
   "source": [
    "task = \"GEX2ADT\"\n",
    "name = task2name[task]\n",
    "tag = \"train_mod1\"\n",
    "glob(f'{path}/{name}/*{tag}*.h5ad')[0]"
   ]
  },
  {
   "cell_type": "code",
   "execution_count": 5,
   "id": "b696bb3b-238b-470d-8a9f-e6a1dbc152f9",
   "metadata": {},
   "outputs": [
    {
     "data": {
      "text/plain": [
       "{'input_train_mod1': '/raid/data/ml/nips/datasets/predict_modality/openproblems_bmmc_cite_phase2_rna/openproblems_bmmc_cite_phase2_rna.censor_dataset.output_train_mod1.h5ad',\n",
       " 'input_train_mod2': '/raid/data/ml/nips/datasets/predict_modality/openproblems_bmmc_cite_phase2_rna/openproblems_bmmc_cite_phase2_rna.censor_dataset.output_train_mod2.h5ad',\n",
       " 'input_test_mod1': '/raid/data/ml/nips/datasets/predict_modality/openproblems_bmmc_cite_phase2_rna/openproblems_bmmc_cite_phase2_rna.censor_dataset.output_test_mod1.h5ad',\n",
       " 'input_test_mod2': '/raid/data/ml/nips/datasets/predict_modality/openproblems_bmmc_cite_phase2_rna/openproblems_bmmc_cite_phase2_rna.censor_dataset.output_test_mod2.h5ad'}"
      ]
     },
     "execution_count": 5,
     "metadata": {},
     "output_type": "execute_result"
    }
   ],
   "source": [
    "tags = ['train_mod1', 'train_mod2', 'test_mod1', 'test_mod2']\n",
    "par = {f'input_{tag}': glob(f'{path}/{name}/*{tag}*.h5ad')[0] for tag in tags}\n",
    "par"
   ]
  },
  {
   "cell_type": "code",
   "execution_count": 6,
   "id": "51c9ecf2-eb4f-4370-b786-fba8bcce316b",
   "metadata": {},
   "outputs": [],
   "source": [
    "def print_shape(*x):\n",
    "    for i in x:\n",
    "        print(i.shape, end=' ')\n",
    "    print()"
   ]
  },
  {
   "cell_type": "code",
   "execution_count": 7,
   "id": "31387dc7-ca33-4984-89d7-cc528f53b7f7",
   "metadata": {},
   "outputs": [
    {
     "name": "stdout",
     "output_type": "stream",
     "text": [
      "(66175, 13953) (66175, 134) (1000, 13953) (1000, 134) \n",
      "CPU times: user 6.27 s, sys: 970 ms, total: 7.24 s\n",
      "Wall time: 7.23 s\n"
     ]
    }
   ],
   "source": [
    "%%time\n",
    "input_train_mod1 = ad.read_h5ad(par['input_train_mod1'])\n",
    "input_train_mod2 = ad.read_h5ad(par['input_train_mod2'])\n",
    "input_test_mod1 = ad.read_h5ad(par['input_test_mod1'])\n",
    "input_test_mod2 = ad.read_h5ad(par['input_test_mod2'])\n",
    "\n",
    "print_shape(input_train_mod1, input_train_mod2, input_test_mod1, input_test_mod2)"
   ]
  },
  {
   "cell_type": "code",
   "execution_count": 8,
   "id": "4c6235f0-dbb7-4e14-82d3-4b27b58eab0b",
   "metadata": {},
   "outputs": [
    {
     "name": "stdout",
     "output_type": "stream",
     "text": [
      "CPU times: user 8.39 s, sys: 1.69 s, total: 10.1 s\n",
      "Wall time: 10.1 s\n"
     ]
    }
   ],
   "source": [
    "%%time\n",
    "\n",
    "pred_dimx = input_test_mod1.shape[0]\n",
    "pred_dimy = input_train_mod2.shape[1]\n",
    "\n",
    "feature_obs = input_train_mod1.obs\n",
    "gs_obs = input_train_mod2.obs\n",
    "\n",
    "batches = input_train_mod1.obs.batch.unique().tolist()\n",
    "batch_len = len(batches)\n",
    "\n",
    "obs = input_test_mod1.obs\n",
    "var = input_train_mod2.var\n",
    "dataset_id = input_train_mod1.uns['dataset_id']\n",
    "\n",
    "input_train = ad.concat(\n",
    "    {\"train\": input_train_mod1, \"test\": input_test_mod1},\n",
    "    axis=0,\n",
    "    join=\"outer\",\n",
    "    label=\"group\",\n",
    "    fill_value=0,\n",
    "    index_unique=\"-\"\n",
    ")"
   ]
  },
  {
   "cell_type": "code",
   "execution_count": 9,
   "id": "9f16e786-35a1-41ce-a8d9-d5cce6115dff",
   "metadata": {},
   "outputs": [
    {
     "name": "stdout",
     "output_type": "stream",
     "text": [
      "Determine parameters by the modalities\n"
     ]
    },
    {
     "data": {
      "text/plain": [
       "('GEX', 'ADT')"
      ]
     },
     "execution_count": 9,
     "metadata": {},
     "output_type": "execute_result"
    }
   ],
   "source": [
    "print('Determine parameters by the modalities')\n",
    "mod1_type = input_train_mod1.var.feature_types[0]\n",
    "mod1_type = mod1_type.upper()\n",
    "mod2_type = input_train_mod2.var.feature_types[0]\n",
    "mod2_type = mod2_type.upper()\n",
    "mod1_type, mod2_type"
   ]
  },
  {
   "cell_type": "code",
   "execution_count": 10,
   "id": "f11bbd7e-78e6-4eed-abd6-95d3b01c4be0",
   "metadata": {},
   "outputs": [
    {
     "name": "stdout",
     "output_type": "stream",
     "text": [
      "GEX, ADT\n",
      "300, 70, 10, 0.2\n",
      "Models using the Truncated SVD to reduce the dimension\n"
     ]
    }
   ],
   "source": [
    "n_comp_dict = {\n",
    "        (\"GEX\", \"ADT\"): (300, 70, 10, 0.2),\n",
    "        (\"ADT\", \"GEX\"): (None, 50, 10, 0.2),\n",
    "        (\"GEX\", \"ATAC\"): (1000, 50, 10, 0.1),\n",
    "        (\"ATAC\", \"GEX\"): (100, 70, 10, 0.1)\n",
    "        }\n",
    "print(f\"{mod1_type}, {mod2_type}\")\n",
    "n_mod1, n_mod2, scale, alpha = n_comp_dict[(mod1_type, mod2_type)]\n",
    "print(f\"{n_mod1}, {n_mod2}, {scale}, {alpha}\")\n",
    "\n",
    "# Do PCA on the input data\n",
    "print('Models using the Truncated SVD to reduce the dimension')"
   ]
  },
  {
   "cell_type": "code",
   "execution_count": 11,
   "id": "dae735dc-354d-46e0-8e86-583bb5eec811",
   "metadata": {},
   "outputs": [
    {
     "name": "stdout",
     "output_type": "stream",
     "text": [
      "CPU times: user 11.8 s, sys: 5.06 s, total: 16.9 s\n",
      "Wall time: 16.9 s\n"
     ]
    }
   ],
   "source": [
    "%%time\n",
    "\n",
    "X = cupy.asarray(input_train.X.toarray(), order='F')\n",
    "y = cupy.asarray(input_train_mod2.X.toarray(), order='F')"
   ]
  },
  {
   "cell_type": "code",
   "execution_count": 12,
   "id": "32529e41-e938-4131-bcd0-6e7c161d64b4",
   "metadata": {},
   "outputs": [
    {
     "name": "stdout",
     "output_type": "stream",
     "text": [
      "CPU times: user 5.85 s, sys: 2.68 s, total: 8.54 s\n",
      "Wall time: 8.53 s\n"
     ]
    }
   ],
   "source": [
    "%%time\n",
    "\n",
    "def get_mask(ds, val):\n",
    "    r = ds == val\n",
    "    return r.values\n",
    "\n",
    "if n_mod1 is not None and n_mod1 < input_train.shape[1]:\n",
    "    embedder_mod1 = cuml.decomposition.TruncatedSVD(n_components=n_mod1)\n",
    "    mod1_pca = embedder_mod1.fit_transform(X).astype(np.float32)\n",
    "    train_matrix = mod1_pca[get_mask(input_train.obs['group'],'train')]\n",
    "    test_matrix = mod1_pca[get_mask(input_train.obs['group'],'test')]\n",
    "else:\n",
    "    train_matrix = input_train_mod1.to_df().values.astype(np.float32)\n",
    "    test_matrix = input_test_mod1.to_df().values.astype(np.float32)\n",
    "\n",
    "if n_mod2 is not None and n_mod2 < input_train_mod2.shape[1]:\n",
    "    embedder_mod2 = cuml.decomposition.TruncatedSVD(n_components=n_mod2)\n",
    "    train_gs = embedder_mod2.fit_transform(y).astype(np.float32)\n",
    "else:\n",
    "    train_gs = input_train_mod2.to_df().values.astype(np.float32)\n",
    "\n",
    "del input_train\n",
    "del input_train_mod1\n",
    "del input_train_mod2\n",
    "del input_test_mod1\n",
    "del X, y"
   ]
  },
  {
   "cell_type": "code",
   "execution_count": 13,
   "id": "e9e7dadc-e182-4832-b833-e3dba8174b61",
   "metadata": {},
   "outputs": [
    {
     "name": "stdout",
     "output_type": "stream",
     "text": [
      "Running normalization ...\n",
      "CPU times: user 8.83 ms, sys: 7.64 ms, total: 16.5 ms\n",
      "Wall time: 17 ms\n"
     ]
    }
   ],
   "source": [
    "%%time\n",
    "\n",
    "print('Running normalization ...')\n",
    "train_sd = np.std(train_matrix, axis=1).reshape(-1, 1)\n",
    "train_sd[train_sd == 0] = 1\n",
    "train_norm = (train_matrix - np.mean(train_matrix, axis=1).reshape(-1, 1)) / train_sd\n",
    "train_norm = train_norm.astype(np.float32)\n",
    "del train_matrix\n",
    "\n",
    "test_sd = np.std(test_matrix, axis=1).reshape(-1, 1)\n",
    "test_sd[test_sd == 0] = 1\n",
    "test_norm = (test_matrix - np.mean(test_matrix, axis=1).reshape(-1, 1)) / test_sd\n",
    "test_norm = test_norm.astype(np.float32)\n",
    "del test_matrix"
   ]
  },
  {
   "cell_type": "code",
   "execution_count": 14,
   "id": "0940c388-2edc-4dfa-80f9-38120082e228",
   "metadata": {},
   "outputs": [
    {
     "data": {
      "text/plain": [
       "{'linear': <function cuml.metrics.pairwise_kernels.linear_kernel(X, Y)>,\n",
       " 'additive_chi2': <function cuml.metrics.pairwise_kernels.additive_chi2_kernel(X, Y)>,\n",
       " 'chi2': <function cuml.metrics.pairwise_kernels.chi2_kernel(X, Y, gamma=1.0)>,\n",
       " 'cosine': <function cuml.metrics.pairwise_kernels.cosine_similarity(X, Y)>,\n",
       " 'laplacian': <function cuml.metrics.pairwise_kernels.laplacian_kernel(X, Y, gamma=None)>,\n",
       " 'polynomial': <function cuml.metrics.pairwise_kernels.polynomial_kernel(X, Y, degree=3, gamma=None, coef0=1)>,\n",
       " 'poly': <function cuml.metrics.pairwise_kernels.polynomial_kernel(X, Y, degree=3, gamma=None, coef0=1)>,\n",
       " 'rbf': <function cuml.metrics.pairwise_kernels.rbf_kernel(X, Y, gamma=None)>,\n",
       " 'sigmoid': <function cuml.metrics.pairwise_kernels.sigmoid_kernel(X, Y, gamma=None, coef0=1)>}"
      ]
     },
     "execution_count": 14,
     "metadata": {},
     "output_type": "execute_result"
    }
   ],
   "source": [
    "cuml.metrics.PAIRWISE_KERNEL_FUNCTIONS"
   ]
  },
  {
   "cell_type": "code",
   "execution_count": null,
   "id": "330cd287-79a3-4d21-9b8d-d8cf24ff4bc9",
   "metadata": {},
   "outputs": [],
   "source": [
    "import cupy\n",
    "from cuml.metrics import pairwise_kernels\n",
    "x = cupy.random.rand(33571, 300)\n",
    "params = {'gamma': None, 'degree': 3, 'coef0': 1}\n",
    "for i in range(10):\n",
    "    K = pairwise_kernels(x, x, metric='rbf', filter_params=True, **params)\n",
    "    print(i)"
   ]
  },
  {
   "cell_type": "code",
   "execution_count": null,
   "id": "b7ac7181-2397-4d64-8ca8-3709aa323177",
   "metadata": {},
   "outputs": [],
   "source": []
  },
  {
   "cell_type": "code",
   "execution_count": 15,
   "id": "b49c75fa-1100-415a-9f88-5055d1bfbe43",
   "metadata": {
    "tags": []
   },
   "outputs": [
    {
     "name": "stdout",
     "output_type": "stream",
     "text": [
      "Running KRR model ...\n"
     ]
    },
    {
     "name": "stderr",
     "output_type": "stream",
     "text": [
      "  0%|                                                                                                                                                                    | 0/5 [00:00<?, ?it/s]"
     ]
    },
    {
     "name": "stdout",
     "output_type": "stream",
     "text": [
      "Fitting KRR ... \n",
      "Fitting KRR ... \n"
     ]
    },
    {
     "name": "stderr",
     "output_type": "stream",
     "text": [
      " 20%|███████████████████████████████                                                                                                                            | 1/5 [09:51<39:24, 591.18s/it]"
     ]
    },
    {
     "name": "stdout",
     "output_type": "stream",
     "text": [
      "Fitting KRR ... \n",
      "Fitting KRR ... \n"
     ]
    },
    {
     "name": "stderr",
     "output_type": "stream",
     "text": [
      " 40%|██████████████████████████████████████████████████████████████                                                                                             | 2/5 [19:29<29:11, 583.71s/it]"
     ]
    },
    {
     "name": "stdout",
     "output_type": "stream",
     "text": [
      "Fitting KRR ... \n",
      "Fitting KRR ... \n"
     ]
    },
    {
     "name": "stderr",
     "output_type": "stream",
     "text": [
      " 60%|█████████████████████████████████████████████████████████████████████████████████████████████                                                              | 3/5 [29:36<19:48, 594.19s/it]"
     ]
    },
    {
     "name": "stdout",
     "output_type": "stream",
     "text": [
      "Fitting KRR ... \n",
      "Fitting KRR ... \n"
     ]
    },
    {
     "name": "stderr",
     "output_type": "stream",
     "text": [
      " 80%|████████████████████████████████████████████████████████████████████████████████████████████████████████████████████████████                               | 4/5 [39:15<09:48, 588.15s/it]"
     ]
    },
    {
     "name": "stdout",
     "output_type": "stream",
     "text": [
      "Fitting KRR ... \n",
      "Fitting KRR ... \n"
     ]
    },
    {
     "name": "stderr",
     "output_type": "stream",
     "text": [
      "100%|███████████████████████████████████████████████████████████████████████████████████████████████████████████████████████████████████████████████████████████| 5/5 [48:54<00:00, 586.80s/it]"
     ]
    },
    {
     "name": "stdout",
     "output_type": "stream",
     "text": [
      "CPU times: user 31min 5s, sys: 15min 40s, total: 46min 45s\n",
      "Wall time: 48min 54s\n"
     ]
    },
    {
     "name": "stderr",
     "output_type": "stream",
     "text": [
      "\n"
     ]
    }
   ],
   "source": [
    "%%time\n",
    "\n",
    "print('Running KRR model ...')\n",
    "y_pred = cupy.zeros((pred_dimx, pred_dimy), dtype=np.float32)\n",
    "cupy.random.seed(1000)\n",
    "\n",
    "for _ in tqdm(range(5)):\n",
    "    np.random.shuffle(batches)\n",
    "    for batch in [batches[:batch_len//2], batches[batch_len//2:]]:\n",
    "        # for passing the test\n",
    "        if not batch:\n",
    "            batch = [batches[0]]\n",
    "\n",
    "        logging.info(batch)\n",
    "        \n",
    "        print('Fitting KRR ... ')\n",
    "        x = train_norm[feature_obs.batch.isin(batch).values]\n",
    "        y = train_gs[gs_obs.batch.isin(batch).values]\n",
    "        yp = []\n",
    "        for i in range(y.shape[1]):\n",
    "            krr = cuml.kernel_ridge.KernelRidge(alpha=alpha, kernel='rbf')\n",
    "            krr.fit(x, y[:,i].ravel())\n",
    "            yp.append(krr.predict(test_norm))\n",
    "            gc.collect()\n",
    "        yp = cupy.array(yp).T\n",
    "        yp = yp @ embedder_mod2.components_.to_output('cupy')\n",
    "        y_pred += yp"
   ]
  },
  {
   "cell_type": "code",
   "execution_count": 16,
   "id": "d981361b-1ac8-43cb-bd96-c09a157e0f67",
   "metadata": {},
   "outputs": [
    {
     "ename": "ValueError",
     "evalue": "Dimension k with different lengths in arrays",
     "output_type": "error",
     "traceback": [
      "\u001b[0;31m---------------------------------------------------------------------------\u001b[0m",
      "\u001b[0;31mValueError\u001b[0m                                Traceback (most recent call last)",
      "Input \u001b[0;32mIn [16]\u001b[0m, in \u001b[0;36m<cell line: 1>\u001b[0;34m()\u001b[0m\n\u001b[0;32m----> 1\u001b[0m \u001b[43myp\u001b[49m\u001b[43m \u001b[49m\u001b[38;5;241;43m@\u001b[39;49m\u001b[43m \u001b[49m\u001b[43membedder_mod2\u001b[49m\u001b[38;5;241;43m.\u001b[39;49m\u001b[43mcomponents_\u001b[49m\u001b[38;5;241;43m.\u001b[39;49m\u001b[43mto_output\u001b[49m\u001b[43m(\u001b[49m\u001b[38;5;124;43m'\u001b[39;49m\u001b[38;5;124;43mcupy\u001b[39;49m\u001b[38;5;124;43m'\u001b[39;49m\u001b[43m)\u001b[49m\n",
      "File \u001b[0;32mcupy/_core/core.pyx:1130\u001b[0m, in \u001b[0;36mcupy._core.core.ndarray.__matmul__\u001b[0;34m()\u001b[0m\n",
      "File \u001b[0;32m/raid/data/ml/anaconda3/envs/rapids-22.06/lib/python3.8/site-packages/cupy/linalg/_product.py:42\u001b[0m, in \u001b[0;36mmatmul\u001b[0;34m(x1, x2, out, axes)\u001b[0m\n\u001b[1;32m     16\u001b[0m \u001b[38;5;28;01mdef\u001b[39;00m \u001b[38;5;21mmatmul\u001b[39m(x1, x2, out\u001b[38;5;241m=\u001b[39m\u001b[38;5;28;01mNone\u001b[39;00m, \u001b[38;5;241m*\u001b[39m, axes\u001b[38;5;241m=\u001b[39m\u001b[38;5;28;01mNone\u001b[39;00m):\n\u001b[1;32m     17\u001b[0m     \u001b[38;5;124;03m\"\"\"Matrix product of two arrays.\u001b[39;00m\n\u001b[1;32m     18\u001b[0m \n\u001b[1;32m     19\u001b[0m \u001b[38;5;124;03m    Returns the matrix product of two arrays and is the implementation of\u001b[39;00m\n\u001b[0;32m   (...)\u001b[0m\n\u001b[1;32m     40\u001b[0m \n\u001b[1;32m     41\u001b[0m \u001b[38;5;124;03m    \"\"\"\u001b[39;00m\n\u001b[0;32m---> 42\u001b[0m     \u001b[38;5;28;01mreturn\u001b[39;00m \u001b[43m_gu_func_matmul\u001b[49m\u001b[43m(\u001b[49m\u001b[43mx1\u001b[49m\u001b[43m,\u001b[49m\u001b[43m \u001b[49m\u001b[43mx2\u001b[49m\u001b[43m,\u001b[49m\u001b[43m \u001b[49m\u001b[43mout\u001b[49m\u001b[38;5;241;43m=\u001b[39;49m\u001b[43mout\u001b[49m\u001b[43m,\u001b[49m\u001b[43m \u001b[49m\u001b[43maxes\u001b[49m\u001b[38;5;241;43m=\u001b[39;49m\u001b[43maxes\u001b[49m\u001b[43m)\u001b[49m\n",
      "File \u001b[0;32m/raid/data/ml/anaconda3/envs/rapids-22.06/lib/python3.8/site-packages/cupy/_core/_gufuncs.py:432\u001b[0m, in \u001b[0;36m_GUFunc.__call__\u001b[0;34m(self, *args, **kwargs)\u001b[0m\n\u001b[1;32m    427\u001b[0m \u001b[38;5;28;01mif\u001b[39;00m \u001b[38;5;28mlen\u001b[39m(input_coredimss) \u001b[38;5;241m!=\u001b[39m \u001b[38;5;28mlen\u001b[39m(args):\n\u001b[1;32m    428\u001b[0m     \u001b[38;5;167;01mValueError\u001b[39;00m(\n\u001b[1;32m    429\u001b[0m         \u001b[38;5;124m'\u001b[39m\u001b[38;5;124mAccording to `signature`, `func` requires \u001b[39m\u001b[38;5;132;01m%d\u001b[39;00m\u001b[38;5;124m arguments,\u001b[39m\u001b[38;5;124m'\u001b[39m\n\u001b[1;32m    430\u001b[0m         \u001b[38;5;124m'\u001b[39m\u001b[38;5;124m but \u001b[39m\u001b[38;5;132;01m%s\u001b[39;00m\u001b[38;5;124m given\u001b[39m\u001b[38;5;124m'\u001b[39m \u001b[38;5;241m%\u001b[39m (\u001b[38;5;28mlen\u001b[39m(input_coredimss), \u001b[38;5;28mlen\u001b[39m(args)))\n\u001b[0;32m--> 432\u001b[0m args, dimsizess, loop_output_dims, outs, m_dims \u001b[38;5;241m=\u001b[39m \u001b[38;5;28;43mself\u001b[39;49m\u001b[38;5;241;43m.\u001b[39;49m\u001b[43m_get_args_transposed\u001b[49m\u001b[43m(\u001b[49m\u001b[43m  \u001b[49m\u001b[38;5;66;43;03m# NOQA\u001b[39;49;00m\n\u001b[1;32m    433\u001b[0m \u001b[43m    \u001b[49m\u001b[43margs\u001b[49m\u001b[43m,\u001b[49m\u001b[43m \u001b[49m\u001b[43minput_axes\u001b[49m\u001b[43m,\u001b[49m\u001b[43m \u001b[49m\u001b[43mouts\u001b[49m\u001b[43m,\u001b[49m\u001b[43m \u001b[49m\u001b[43moutput_axes\u001b[49m\u001b[43m)\u001b[49m\n\u001b[1;32m    435\u001b[0m \u001b[38;5;66;03m# The output shape varies depending on optional dims or not\u001b[39;00m\n\u001b[1;32m    436\u001b[0m \u001b[38;5;66;03m# TODO(ecastill) this only works for one out argument\u001b[39;00m\n\u001b[1;32m    437\u001b[0m out_shape \u001b[38;5;241m=\u001b[39m \u001b[38;5;28mtuple\u001b[39m([dimsizess[od][\u001b[38;5;241m0\u001b[39m] \u001b[38;5;28;01mfor\u001b[39;00m od \u001b[38;5;129;01min\u001b[39;00m loop_output_dims]\n\u001b[1;32m    438\u001b[0m                   \u001b[38;5;241m+\u001b[39m [dimsizess[od][\u001b[38;5;241m0\u001b[39m] \u001b[38;5;28;01mfor\u001b[39;00m od \u001b[38;5;129;01min\u001b[39;00m output_coredimss])\n",
      "File \u001b[0;32m/raid/data/ml/anaconda3/envs/rapids-22.06/lib/python3.8/site-packages/cupy/_core/_gufuncs.py:341\u001b[0m, in \u001b[0;36m_GUFunc._get_args_transposed\u001b[0;34m(self, args, input_axes, outs, output_axes)\u001b[0m\n\u001b[1;32m    339\u001b[0m \u001b[38;5;28;01mfor\u001b[39;00m dim, sizes \u001b[38;5;129;01min\u001b[39;00m dimsizess\u001b[38;5;241m.\u001b[39mitems():\n\u001b[1;32m    340\u001b[0m     \u001b[38;5;28;01mif\u001b[39;00m \u001b[38;5;28mset\u001b[39m(sizes)\u001b[38;5;241m.\u001b[39munion({\u001b[38;5;241m1\u001b[39m}) \u001b[38;5;241m!=\u001b[39m {\u001b[38;5;241m1\u001b[39m, \u001b[38;5;28mmax\u001b[39m(sizes)}:\n\u001b[0;32m--> 341\u001b[0m         \u001b[38;5;28;01mraise\u001b[39;00m \u001b[38;5;167;01mValueError\u001b[39;00m(\n\u001b[1;32m    342\u001b[0m             \u001b[38;5;124mf\u001b[39m\u001b[38;5;124m'\u001b[39m\u001b[38;5;124mDimension \u001b[39m\u001b[38;5;132;01m{\u001b[39;00mdim\u001b[38;5;132;01m}\u001b[39;00m\u001b[38;5;124m with different lengths in arrays\u001b[39m\u001b[38;5;124m'\u001b[39m\n\u001b[1;32m    343\u001b[0m         )\n\u001b[1;32m    345\u001b[0m \u001b[38;5;28;01mreturn\u001b[39;00m args, dimsizess, loop_output_dims, outs, missing_dims\n",
      "\u001b[0;31mValueError\u001b[0m: Dimension k with different lengths in arrays"
     ]
    }
   ],
   "source": [
    "yp @ embedder_mod2.components_.to_output('cupy')"
   ]
  },
  {
   "cell_type": "code",
   "execution_count": null,
   "id": "4a80d14b-1248-44f6-951e-58618a799f99",
   "metadata": {},
   "outputs": [],
   "source": [
    "yp.shape"
   ]
  },
  {
   "cell_type": "code",
   "execution_count": null,
   "id": "47cf4d35-a4c6-43a2-a659-0ef31952a7cd",
   "metadata": {},
   "outputs": [],
   "source": [
    "krr.fit(x, y[:,i].ravel())"
   ]
  },
  {
   "cell_type": "code",
   "execution_count": null,
   "id": "7d324481-8cda-4048-9e8d-84d44afad1ce",
   "metadata": {},
   "outputs": [],
   "source": [
    "krr.predict(test_norm)"
   ]
  },
  {
   "cell_type": "code",
   "execution_count": null,
   "id": "529b918d-6811-4d01-9e94-aabfb805f076",
   "metadata": {},
   "outputs": [],
   "source": [
    "tmp = y[:,i]\n",
    "type(tmp), tmp.shape"
   ]
  },
  {
   "cell_type": "code",
   "execution_count": null,
   "id": "338df69d-3b98-4bfc-a2d1-edf685b4b9bd",
   "metadata": {},
   "outputs": [],
   "source": [
    "tmp.strides, y.shape"
   ]
  },
  {
   "cell_type": "code",
   "execution_count": null,
   "id": "00d861fc-e798-49ce-b7c8-072b262faa31",
   "metadata": {},
   "outputs": [],
   "source": [
    "y = train_gs[gs_obs.batch.isin(batch).values]\n",
    "type(y), y.shape"
   ]
  },
  {
   "cell_type": "code",
   "execution_count": null,
   "id": "76816067-d04b-4248-a467-0d525c64140e",
   "metadata": {},
   "outputs": [],
   "source": [
    "tmp = y[:,i]\n",
    "tmp.strides"
   ]
  },
  {
   "cell_type": "code",
   "execution_count": null,
   "id": "bcd05ba9-beb8-43e0-b4b8-6ba64a1878c5",
   "metadata": {},
   "outputs": [],
   "source": [
    "tmp = tmp.ravel()\n",
    "tmp.strides"
   ]
  },
  {
   "cell_type": "code",
   "execution_count": null,
   "id": "892b4e03-1a45-4476-bb23-9b0665f32974",
   "metadata": {},
   "outputs": [],
   "source": [
    "\n",
    "\n",
    "\n",
    "\n",
    "\n",
    "\n",
    "\n",
    "\n",
    "\n",
    "\n",
    "\n",
    "\n",
    "\n",
    "\n",
    "np.clip(y_pred, a_min=0, a_max=None, out=y_pred)\n",
    "if mod2_type == \"ATAC\":\n",
    "    np.clip(y_pred, a_min=0, a_max=1, out=y_pred)\n",
    "\n",
    "y_pred /= 10\n",
    "\n",
    "# Store as sparse matrix to be efficient. Note that this might require\n",
    "# different classifiers/embedders before-hand. Not every class is able\n",
    "# to support such data structures.\n",
    "y_pred = csc_matrix(y_pred)\n",
    "\n",
    "logging.info(\"Generate anndata object ...\")\n",
    "adata = ad.AnnData(\n",
    "    X=y_pred,\n",
    "    obs=obs,\n",
    "    var=var,\n",
    "    uns={\n",
    "        'dataset_id': dataset_id,\n",
    "        'method_id': meta['functionality_name'],\n",
    "    },\n",
    ")\n",
    "\n",
    "logging.info('Storing annotated data...')\n",
    "adata.write_h5ad(par['output'], compression = \"gzip\")"
   ]
  }
 ],
 "metadata": {
  "kernelspec": {
   "display_name": "Python 3 (ipykernel)",
   "language": "python",
   "name": "python3"
  },
  "language_info": {
   "codemirror_mode": {
    "name": "ipython",
    "version": 3
   },
   "file_extension": ".py",
   "mimetype": "text/x-python",
   "name": "python",
   "nbconvert_exporter": "python",
   "pygments_lexer": "ipython3",
   "version": "3.8.13"
  },
  "widgets": {
   "application/vnd.jupyter.widget-state+json": {
    "state": {},
    "version_major": 2,
    "version_minor": 0
   }
  }
 },
 "nbformat": 4,
 "nbformat_minor": 5
}
