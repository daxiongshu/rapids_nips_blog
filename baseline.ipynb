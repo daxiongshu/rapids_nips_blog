{
 "cells": [
  {
   "cell_type": "code",
   "execution_count": 1,
   "id": "3b9fe0e5-476f-4094-95d6-0aa5514b12a0",
   "metadata": {},
   "outputs": [],
   "source": [
    "import logging\n",
    "import anndata as ad\n",
    "import numpy as np\n",
    "\n",
    "from scipy.sparse import csc_matrix\n",
    "\n",
    "from sklearn.decomposition import TruncatedSVD\n",
    "from sklearn.gaussian_process.kernels import RBF\n",
    "from sklearn.kernel_ridge import KernelRidge\n",
    "import os\n",
    "from glob import glob\n",
    "from tqdm import tqdm"
   ]
  },
  {
   "cell_type": "code",
   "execution_count": 2,
   "id": "8255711e-8918-44ec-aead-2454bf7de94b",
   "metadata": {},
   "outputs": [
    {
     "data": {
      "text/plain": [
       "['openproblems_bmmc_cite_phase2_mod2',\n",
       " 'openproblems_bmmc_multiome_phase2_mod2',\n",
       " 'openproblems_bmmc_cite_phase2_rna',\n",
       " 'openproblems_bmmc_multiome_phase2_rna']"
      ]
     },
     "execution_count": 2,
     "metadata": {},
     "output_type": "execute_result"
    }
   ],
   "source": [
    "path = '/raid/data/ml/nips/datasets/predict_modality'\n",
    "os.listdir(path)"
   ]
  },
  {
   "cell_type": "code",
   "execution_count": 3,
   "id": "683e5ede-13a5-491b-bb9d-a7a9da9517f9",
   "metadata": {},
   "outputs": [],
   "source": [
    "tasks = [\"GEX2ADT\", \"ADT2GEX\", \"GEX2ATAC\", \"ATAC2GEX\"]\n",
    "task2name = {\n",
    "    \"ADT2GEX\":f\"openproblems_bmmc_cite_phase2_mod2\",\n",
    "    \"GEX2ADT\":f\"openproblems_bmmc_cite_phase2_rna\",\n",
    "    \"ATAC2GEX\":f\"openproblems_bmmc_multiome_phase2_mod2\",\n",
    "    \"GEX2ATAC\":f\"openproblems_bmmc_multiome_phase2_rna\"\n",
    "}"
   ]
  },
  {
   "cell_type": "code",
   "execution_count": 4,
   "id": "54aef355-2b0c-4838-a5ae-848663919cf5",
   "metadata": {},
   "outputs": [
    {
     "data": {
      "text/plain": [
       "'/raid/data/ml/nips/datasets/predict_modality/openproblems_bmmc_cite_phase2_rna/openproblems_bmmc_cite_phase2_rna.censor_dataset.output_train_mod1.h5ad'"
      ]
     },
     "execution_count": 4,
     "metadata": {},
     "output_type": "execute_result"
    }
   ],
   "source": [
    "task = \"GEX2ADT\"\n",
    "name = task2name[task]\n",
    "tag = \"train_mod1\"\n",
    "glob(f'{path}/{name}/*{tag}*.h5ad')[0]"
   ]
  },
  {
   "cell_type": "code",
   "execution_count": 5,
   "id": "b696bb3b-238b-470d-8a9f-e6a1dbc152f9",
   "metadata": {},
   "outputs": [
    {
     "data": {
      "text/plain": [
       "{'input_train_mod1': '/raid/data/ml/nips/datasets/predict_modality/openproblems_bmmc_cite_phase2_rna/openproblems_bmmc_cite_phase2_rna.censor_dataset.output_train_mod1.h5ad',\n",
       " 'input_train_mod2': '/raid/data/ml/nips/datasets/predict_modality/openproblems_bmmc_cite_phase2_rna/openproblems_bmmc_cite_phase2_rna.censor_dataset.output_train_mod2.h5ad',\n",
       " 'input_test_mod1': '/raid/data/ml/nips/datasets/predict_modality/openproblems_bmmc_cite_phase2_rna/openproblems_bmmc_cite_phase2_rna.censor_dataset.output_test_mod1.h5ad',\n",
       " 'input_test_mod2': '/raid/data/ml/nips/datasets/predict_modality/openproblems_bmmc_cite_phase2_rna/openproblems_bmmc_cite_phase2_rna.censor_dataset.output_test_mod2.h5ad',\n",
       " 'output': 'baseline'}"
      ]
     },
     "execution_count": 5,
     "metadata": {},
     "output_type": "execute_result"
    }
   ],
   "source": [
    "tags = ['train_mod1', 'train_mod2', 'test_mod1', 'test_mod2']\n",
    "par = {f'input_{tag}': glob(f'{path}/{name}/*{tag}*.h5ad')[0] for tag in tags}\n",
    "par['output'] = 'baseline'\n",
    "par"
   ]
  },
  {
   "cell_type": "code",
   "execution_count": 6,
   "id": "51c9ecf2-eb4f-4370-b786-fba8bcce316b",
   "metadata": {},
   "outputs": [],
   "source": [
    "def print_shape(*x):\n",
    "    for i in x:\n",
    "        print(i.shape, end=' ')\n",
    "    print()"
   ]
  },
  {
   "cell_type": "code",
   "execution_count": 7,
   "id": "31387dc7-ca33-4984-89d7-cc528f53b7f7",
   "metadata": {},
   "outputs": [
    {
     "name": "stdout",
     "output_type": "stream",
     "text": [
      "(66175, 13953) (66175, 134) (1000, 13953) (1000, 134) \n",
      "CPU times: user 6.31 s, sys: 892 ms, total: 7.2 s\n",
      "Wall time: 7.2 s\n"
     ]
    }
   ],
   "source": [
    "%%time\n",
    "input_train_mod1 = ad.read_h5ad(par['input_train_mod1'])\n",
    "input_train_mod2 = ad.read_h5ad(par['input_train_mod2'])\n",
    "input_test_mod1 = ad.read_h5ad(par['input_test_mod1'])\n",
    "input_test_mod2 = ad.read_h5ad(par['input_test_mod2'])\n",
    "\n",
    "print_shape(input_train_mod1, input_train_mod2, input_test_mod1, input_test_mod2)"
   ]
  },
  {
   "cell_type": "code",
   "execution_count": 8,
   "id": "4c6235f0-dbb7-4e14-82d3-4b27b58eab0b",
   "metadata": {},
   "outputs": [
    {
     "name": "stdout",
     "output_type": "stream",
     "text": [
      "CPU times: user 8.84 s, sys: 1.73 s, total: 10.6 s\n",
      "Wall time: 10.6 s\n"
     ]
    }
   ],
   "source": [
    "%%time\n",
    "\n",
    "pred_dimx = input_test_mod1.shape[0]\n",
    "pred_dimy = input_train_mod2.shape[1]\n",
    "\n",
    "feature_obs = input_train_mod1.obs\n",
    "gs_obs = input_train_mod2.obs\n",
    "\n",
    "batches = input_train_mod1.obs.batch.unique().tolist()\n",
    "batch_len = len(batches)\n",
    "\n",
    "obs = input_test_mod1.obs\n",
    "var = input_train_mod2.var\n",
    "dataset_id = input_train_mod1.uns['dataset_id']\n",
    "\n",
    "input_train = ad.concat(\n",
    "    {\"train\": input_train_mod1, \"test\": input_test_mod1},\n",
    "    axis=0,\n",
    "    join=\"outer\",\n",
    "    label=\"group\",\n",
    "    fill_value=0,\n",
    "    index_unique=\"-\"\n",
    ")"
   ]
  },
  {
   "cell_type": "code",
   "execution_count": 9,
   "id": "9f16e786-35a1-41ce-a8d9-d5cce6115dff",
   "metadata": {},
   "outputs": [
    {
     "name": "stdout",
     "output_type": "stream",
     "text": [
      "Determine parameters by the modalities\n"
     ]
    },
    {
     "data": {
      "text/plain": [
       "('GEX', 'ADT')"
      ]
     },
     "execution_count": 9,
     "metadata": {},
     "output_type": "execute_result"
    }
   ],
   "source": [
    "print('Determine parameters by the modalities')\n",
    "mod1_type = input_train_mod1.var.feature_types[0]\n",
    "mod1_type = mod1_type.upper()\n",
    "mod2_type = input_train_mod2.var.feature_types[0]\n",
    "mod2_type = mod2_type.upper()\n",
    "mod1_type, mod2_type"
   ]
  },
  {
   "cell_type": "code",
   "execution_count": 10,
   "id": "f11bbd7e-78e6-4eed-abd6-95d3b01c4be0",
   "metadata": {},
   "outputs": [],
   "source": [
    "n_comp_dict = {\n",
    "        (\"GEX\", \"ADT\"): (300, 70, 10, 0.2),\n",
    "        (\"ADT\", \"GEX\"): (None, 50, 10, 0.2),\n",
    "        (\"GEX\", \"ATAC\"): (1000, 50, 10, 0.1),\n",
    "        (\"ATAC\", \"GEX\"): (100, 70, 10, 0.1)\n",
    "        }\n",
    "logging.info(f\"{mod1_type}, {mod2_type}\")\n",
    "n_mod1, n_mod2, scale, alpha = n_comp_dict[(mod1_type, mod2_type)]\n",
    "logging.info(f\"{n_mod1}, {n_mod2}, {scale}, {alpha}\")\n",
    "\n",
    "# Do PCA on the input data\n",
    "logging.info('Models using the Truncated SVD to reduce the dimension')"
   ]
  },
  {
   "cell_type": "code",
   "execution_count": 11,
   "id": "f1a8a43c-7dd2-4ad5-b927-f5e0f6856481",
   "metadata": {},
   "outputs": [
    {
     "name": "stdout",
     "output_type": "stream",
     "text": [
      "GEX, ADT\n"
     ]
    }
   ],
   "source": [
    "print(f\"{mod1_type}, {mod2_type}\")"
   ]
  },
  {
   "cell_type": "code",
   "execution_count": 12,
   "id": "51311951-7395-4520-91ee-8129cbf20a8d",
   "metadata": {},
   "outputs": [
    {
     "name": "stdout",
     "output_type": "stream",
     "text": [
      "300, 70, 10, 0.2\n"
     ]
    }
   ],
   "source": [
    "print(f\"{n_mod1}, {n_mod2}, {scale}, {alpha}\")"
   ]
  },
  {
   "cell_type": "code",
   "execution_count": 13,
   "id": "32529e41-e938-4131-bcd0-6e7c161d64b4",
   "metadata": {},
   "outputs": [
    {
     "name": "stdout",
     "output_type": "stream",
     "text": [
      "CPU times: user 7min 27s, sys: 3min 6s, total: 10min 34s\n",
      "Wall time: 1min 54s\n"
     ]
    }
   ],
   "source": [
    "%%time\n",
    "if n_mod1 is not None and n_mod1 < input_train.shape[1]:\n",
    "    embedder_mod1 = TruncatedSVD(n_components=n_mod1)\n",
    "    mod1_pca = embedder_mod1.fit_transform(input_train.X).astype(np.float32)\n",
    "    train_matrix = mod1_pca[input_train.obs['group'] == 'train']\n",
    "    test_matrix = mod1_pca[input_train.obs['group'] == 'test']\n",
    "else:\n",
    "    train_matrix = input_train_mod1.to_df().values.astype(np.float32)\n",
    "    test_matrix = input_test_mod1.to_df().values.astype(np.float32)\n",
    "\n",
    "if n_mod2 is not None and n_mod2 < input_train_mod2.shape[1]:\n",
    "    embedder_mod2 = TruncatedSVD(n_components=n_mod2)\n",
    "    train_gs = embedder_mod2.fit_transform(input_train_mod2.X).astype(np.float32)\n",
    "else:\n",
    "    train_gs = input_train_mod2.to_df().values.astype(np.float32)\n",
    "\n",
    "del input_train\n",
    "del input_train_mod1\n",
    "del input_train_mod2\n",
    "del input_test_mod1"
   ]
  },
  {
   "cell_type": "code",
   "execution_count": 14,
   "id": "e9e7dadc-e182-4832-b833-e3dba8174b61",
   "metadata": {},
   "outputs": [
    {
     "name": "stdout",
     "output_type": "stream",
     "text": [
      "Running normalization ...\n",
      "CPU times: user 87 ms, sys: 75.6 ms, total: 163 ms\n",
      "Wall time: 160 ms\n"
     ]
    }
   ],
   "source": [
    "%%time\n",
    "\n",
    "print('Running normalization ...')\n",
    "train_sd = np.std(train_matrix, axis=1).reshape(-1, 1)\n",
    "train_sd[train_sd == 0] = 1\n",
    "train_norm = (train_matrix - np.mean(train_matrix, axis=1).reshape(-1, 1)) / train_sd\n",
    "train_norm = train_norm.astype(np.float32)\n",
    "del train_matrix\n",
    "\n",
    "test_sd = np.std(test_matrix, axis=1).reshape(-1, 1)\n",
    "test_sd[test_sd == 0] = 1\n",
    "test_norm = (test_matrix - np.mean(test_matrix, axis=1).reshape(-1, 1)) / test_sd\n",
    "test_norm = test_norm.astype(np.float32)\n",
    "del test_matrix"
   ]
  },
  {
   "cell_type": "code",
   "execution_count": 15,
   "id": "b49c75fa-1100-415a-9f88-5055d1bfbe43",
   "metadata": {},
   "outputs": [
    {
     "name": "stdout",
     "output_type": "stream",
     "text": [
      "Running KRR model ...\n"
     ]
    },
    {
     "name": "stderr",
     "output_type": "stream",
     "text": [
      "100%|█████████████████████████████████████████████████████████████████████████████████████████████████████████████████████████████████████████████████████████| 5/5 [1:09:01<00:00, 828.34s/it]"
     ]
    },
    {
     "name": "stdout",
     "output_type": "stream",
     "text": [
      "CPU times: user 7h 34min 13s, sys: 2h 6min 31s, total: 9h 40min 44s\n",
      "Wall time: 1h 9min 1s\n"
     ]
    },
    {
     "name": "stderr",
     "output_type": "stream",
     "text": [
      "\n"
     ]
    }
   ],
   "source": [
    "%%time\n",
    "\n",
    "print('Running KRR model ...')\n",
    "y_pred = np.zeros((pred_dimx, pred_dimy), dtype=np.float32)\n",
    "np.random.seed(1000)\n",
    "\n",
    "for _ in tqdm(range(5)):\n",
    "    np.random.shuffle(batches)\n",
    "    for batch in [batches[:batch_len//2], batches[batch_len//2:]]:\n",
    "        # for passing the test\n",
    "        if not batch:\n",
    "            batch = [batches[0]]\n",
    "\n",
    "        logging.info(batch)\n",
    "        kernel = RBF(length_scale = scale)\n",
    "        krr = KernelRidge(alpha=alpha, kernel=kernel)\n",
    "        logging.info('Fitting KRR ... ')\n",
    "        krr.fit(train_norm[feature_obs.batch.isin(batch)], \n",
    "                train_gs[gs_obs.batch.isin(batch)])\n",
    "        y_pred += (krr.predict(test_norm) @ embedder_mod2.components_)"
   ]
  },
  {
   "cell_type": "code",
   "execution_count": 16,
   "id": "892b4e03-1a45-4476-bb23-9b0665f32974",
   "metadata": {},
   "outputs": [],
   "source": [
    "np.clip(y_pred, a_min=0, a_max=None, out=y_pred)\n",
    "if mod2_type == \"ATAC\":\n",
    "    np.clip(y_pred, a_min=0, a_max=1, out=y_pred)\n",
    "\n",
    "y_pred /= 10\n",
    "\n",
    "# Store as sparse matrix to be efficient. Note that this might require\n",
    "# different classifiers/embedders before-hand. Not every class is able\n",
    "# to support such data structures.\n",
    "y_pred = csc_matrix(y_pred)\n",
    "\n",
    "logging.info(\"Generate anndata object ...\")\n",
    "adata = ad.AnnData(\n",
    "    X=y_pred,\n",
    "    obs=obs,\n",
    "    var=var,\n",
    "    uns={\n",
    "        'dataset_id': dataset_id,\n",
    "        'method_id': 'baseline',\n",
    "    },\n",
    ")\n",
    "\n",
    "logging.info('Storing annotated data...')\n",
    "adata.write_h5ad('baseline', compression = \"gzip\")"
   ]
  },
  {
   "cell_type": "code",
   "execution_count": 17,
   "id": "253eb14d-52b8-46a9-9aa2-62e8b3a08283",
   "metadata": {},
   "outputs": [],
   "source": [
    "yx = y_pred.toarray()"
   ]
  },
  {
   "cell_type": "code",
   "execution_count": 18,
   "id": "bc5f3455-7574-4acf-9a5d-f4a4d0298679",
   "metadata": {},
   "outputs": [
    {
     "data": {
      "text/plain": [
       "array([[0.35220775, 0.3766317 , 1.3321805 , ..., 0.6887847 , 0.8215664 ,\n",
       "        1.060226  ],\n",
       "       [0.11248662, 0.48883766, 1.3249539 , ..., 0.3920132 , 0.7256106 ,\n",
       "        0.43536562],\n",
       "       [0.07785395, 0.28895217, 1.3754098 , ..., 0.42136812, 0.8433135 ,\n",
       "        0.29659823],\n",
       "       ...,\n",
       "       [0.15586874, 0.41980872, 1.0597835 , ..., 0.4836412 , 0.7209059 ,\n",
       "        0.50454247],\n",
       "       [0.15739742, 0.30455944, 1.1269591 , ..., 0.26266563, 0.7777873 ,\n",
       "        0.39446548],\n",
       "       [0.11088365, 0.53968465, 1.315345  , ..., 0.42454523, 0.79862225,\n",
       "        0.6007253 ]], dtype=float32)"
      ]
     },
     "execution_count": 18,
     "metadata": {},
     "output_type": "execute_result"
    }
   ],
   "source": [
    "yx"
   ]
  },
  {
   "cell_type": "code",
   "execution_count": null,
   "id": "2c88fe9b-ea1a-4d2e-a403-20d22d0ca742",
   "metadata": {},
   "outputs": [],
   "source": []
  }
 ],
 "metadata": {
  "kernelspec": {
   "display_name": "Python 3 (ipykernel)",
   "language": "python",
   "name": "python3"
  },
  "language_info": {
   "codemirror_mode": {
    "name": "ipython",
    "version": 3
   },
   "file_extension": ".py",
   "mimetype": "text/x-python",
   "name": "python",
   "nbconvert_exporter": "python",
   "pygments_lexer": "ipython3",
   "version": "3.8.13"
  },
  "widgets": {
   "application/vnd.jupyter.widget-state+json": {
    "state": {},
    "version_major": 2,
    "version_minor": 0
   }
  }
 },
 "nbformat": 4,
 "nbformat_minor": 5
}
